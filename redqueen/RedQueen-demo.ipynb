{
 "cells": [
  {
   "cell_type": "code",
   "execution_count": 1,
   "metadata": {},
   "outputs": [
    {
     "data": {
      "text/plain": [
       "<matplotlib.figure.Figure at 0x7fb8ee767f28>"
      ]
     },
     "metadata": {},
     "output_type": "display_data"
    }
   ],
   "source": [
    "%matplotlib inline\n",
    "from matplotlib import pyplot as plt\n",
    "import seaborn as sns\n",
    "import numpy as np\n",
    "\n",
    "np.set_printoptions(suppress=True, precision=3)\n",
    "\n",
    "sns.set(style='ticks', palette='Set2')\n",
    "sns.despine()"
   ]
  },
  {
   "cell_type": "code",
   "execution_count": null,
   "metadata": {
    "collapsed": true
   },
   "outputs": [],
   "source": []
  },
  {
   "cell_type": "code",
   "execution_count": 2,
   "metadata": {},
   "outputs": [],
   "source": [
    "import utils as U\n",
    "import opt_runs as OR\n",
    "import opt_model as OM\n",
    "import decorated_options as Deco"
   ]
  },
  {
   "cell_type": "code",
   "execution_count": null,
   "metadata": {
    "collapsed": true
   },
   "outputs": [],
   "source": []
  },
  {
   "cell_type": "code",
   "execution_count": null,
   "metadata": {
    "collapsed": true
   },
   "outputs": [],
   "source": []
  },
  {
   "cell_type": "markdown",
   "metadata": {
    "collapsed": true
   },
   "source": [
    "# Step 1: Create a SimOpts which will generate raw data"
   ]
  },
  {
   "cell_type": "code",
   "execution_count": 3,
   "metadata": {
    "collapsed": true
   },
   "outputs": [],
   "source": [
    "sim_opts_1_follower = OM.SimOpts(\n",
    "    src_id=0,\n",
    "    end_time=100,\n",
    "    s=np.array([1]),\n",
    "    q=1.0,\n",
    "    other_sources=[('Hawkes', {'src_id': 1, 'seed': 1, 'l_0': 1.0, 'alpha': 1.0, 'beta': 5.0})],\n",
    "    sink_ids=[1000],\n",
    "    edge_list=[(0, 1000), (1, 1000)]\n",
    ")"
   ]
  },
  {
   "cell_type": "code",
   "execution_count": null,
   "metadata": {
    "collapsed": true
   },
   "outputs": [],
   "source": []
  },
  {
   "cell_type": "markdown",
   "metadata": {
    "collapsed": true
   },
   "source": [
    "# Step 2: Simulate the walls along with different strategies for our broadcaster"
   ]
  },
  {
   "cell_type": "code",
   "execution_count": null,
   "metadata": {
    "collapsed": true
   },
   "outputs": [],
   "source": []
  },
  {
   "cell_type": "markdown",
   "metadata": {},
   "source": [
    "### RedQueen"
   ]
  },
  {
   "cell_type": "code",
   "execution_count": 84,
   "metadata": {},
   "outputs": [
    {
     "name": "stdout",
     "output_type": "stream",
     "text": [
      "CPU times: user 50 ms, sys: 3.33 ms, total: 53.3 ms\n",
      "Wall time: 55.9 ms\n"
     ]
    }
   ],
   "source": [
    "%%time\n",
    "seed = 1\n",
    "opt_mgr = sim_opts_1_follower.create_manager_with_opt(seed)\n",
    "opt_mgr.run_dynamic()\n",
    "opt_df = opt_mgr.state.get_dataframe()\n",
    "num_opt_tweets = U.num_tweets_of(opt_df, broadcaster_id=sim_opts_1_follower.src_id)\n",
    "perf_opt = {\n",
    "    'type': 'Opt',\n",
    "    'seed': seed,\n",
    "    'capacity': num_opt_tweets,\n",
    "    'q': sim_opts_1_follower.q\n",
    "}\n",
    "OR.add_perf(perf_opt, opt_df, sim_opts_1_follower)"
   ]
  },
  {
   "cell_type": "code",
   "execution_count": 85,
   "metadata": {},
   "outputs": [
    {
     "data": {
      "text/plain": [
       "{'avg_rank': 66.8116376874034,\n",
       " 'capacity': 78.0,\n",
       " 'num_events': 78,\n",
       " 'q': 1.0,\n",
       " 'r_2': 138.15727122691501,\n",
       " 'seed': 1,\n",
       " 'top_1': 56.517519051405124,\n",
       " 'type': 'Opt',\n",
       " 'world_events': 154}"
      ]
     },
     "execution_count": 85,
     "metadata": {},
     "output_type": "execute_result"
    }
   ],
   "source": [
    "perf_opt"
   ]
  },
  {
   "cell_type": "code",
   "execution_count": null,
   "metadata": {
    "collapsed": true
   },
   "outputs": [],
   "source": []
  },
  {
   "cell_type": "markdown",
   "metadata": {},
   "source": [
    "### Poisson"
   ]
  },
  {
   "cell_type": "code",
   "execution_count": 83,
   "metadata": {},
   "outputs": [
    {
     "name": "stdout",
     "output_type": "stream",
     "text": [
      "CPU times: user 76.7 ms, sys: 0 ns, total: 76.7 ms\n",
      "Wall time: 71.8 ms\n"
     ]
    }
   ],
   "source": [
    "%%time\n",
    "seed = 9\n",
    "poisson_mgr = sim_opts_1_follower.create_manager_with_poisson(seed, capacity=num_opt_tweets)\n",
    "poisson_mgr.run_dynamic()\n",
    "poisson_df = poisson_mgr.state.get_dataframe()\n",
    "num_poisson_tweets = U.num_tweets_of(opt_df, broadcaster_id=sim_opts_1_follower.src_id)\n",
    "perf_poisson = {\n",
    "    'type': 'Poisson',\n",
    "    'seed': seed,\n",
    "    'capacity': num_poisson_tweets,\n",
    "    'q': sim_opts_1_follower.q\n",
    "}\n",
    "OR.add_perf(perf_poisson, poisson_df, sim_opts_1_follower)"
   ]
  },
  {
   "cell_type": "code",
   "execution_count": 86,
   "metadata": {},
   "outputs": [
    {
     "data": {
      "text/plain": [
       "{'avg_rank': 201.3461740580856,\n",
       " 'capacity': 78.0,\n",
       " 'num_events': 78,\n",
       " 'q': 1.0,\n",
       " 'r_2': 1341.2792390212567,\n",
       " 'seed': 9,\n",
       " 'top_1': 39.68728199394901,\n",
       " 'type': 'Poisson',\n",
       " 'world_events': 154}"
      ]
     },
     "execution_count": 86,
     "metadata": {},
     "output_type": "execute_result"
    }
   ],
   "source": [
    "perf_poisson"
   ]
  },
  {
   "cell_type": "code",
   "execution_count": null,
   "metadata": {
    "collapsed": true
   },
   "outputs": [],
   "source": []
  },
  {
   "cell_type": "markdown",
   "metadata": {
    "collapsed": true
   },
   "source": [
    "# Step 3: Study the performance"
   ]
  },
  {
   "cell_type": "code",
   "execution_count": 87,
   "metadata": {},
   "outputs": [
    {
     "name": "stdout",
     "output_type": "stream",
     "text": [
      "num_opt_tweets = 78.0, num_poisson_tweets = 78.0\n"
     ]
    }
   ],
   "source": [
    "print('num_opt_tweets = {}, num_poisson_tweets = {}'\n",
    "      .format(U.num_tweets_of(opt_df, 0), U.num_tweets_of(poisson_df, 0)))"
   ]
  },
  {
   "cell_type": "code",
   "execution_count": null,
   "metadata": {
    "collapsed": true
   },
   "outputs": [],
   "source": []
  },
  {
   "cell_type": "code",
   "execution_count": 79,
   "metadata": {},
   "outputs": [
    {
     "name": "stdout",
     "output_type": "stream",
     "text": [
      "avg_rank_opt = 66.8116376874034, avg_rank_poisson = 201.3461740580856\n"
     ]
    }
   ],
   "source": [
    "print('avg_rank_opt = {}, avg_rank_poisson = {}'\n",
    "      .format(U.average_rank(opt_df, sim_opts=sim_opts_1_follower), \n",
    "              U.average_rank(poisson_df, sim_opts=sim_opts_1_follower)))"
   ]
  },
  {
   "cell_type": "code",
   "execution_count": null,
   "metadata": {
    "collapsed": true
   },
   "outputs": [],
   "source": []
  },
  {
   "cell_type": "code",
   "execution_count": 88,
   "metadata": {},
   "outputs": [
    {
     "name": "stdout",
     "output_type": "stream",
     "text": [
      "Time spent in the top-1 by Redqueen = 56.517519051405124 and Poisson = 39.68728199394901\n"
     ]
    }
   ],
   "source": [
    "K = 1\n",
    "print('Time spent in the top-{} by Redqueen = {} and Poisson = {}'\n",
    "      .format(K, \n",
    "              U.time_in_top_k(opt_df, K=K, sim_opts=sim_opts_1_follower),\n",
    "              U.time_in_top_k(poisson_df, K=K, sim_opts=sim_opts_1_follower)))"
   ]
  },
  {
   "cell_type": "code",
   "execution_count": null,
   "metadata": {
    "collapsed": true
   },
   "outputs": [],
   "source": []
  },
  {
   "cell_type": "markdown",
   "metadata": {},
   "source": [
    "### Plot evolution"
   ]
  },
  {
   "cell_type": "code",
   "execution_count": null,
   "metadata": {
    "collapsed": true
   },
   "outputs": [],
   "source": []
  },
  {
   "cell_type": "code",
   "execution_count": 71,
   "metadata": {},
   "outputs": [],
   "source": [
    "def plot_feed_evolution(df, src_id):\n",
    "    # plt.figure(figsize=(8,6))\n",
    "    \n",
    "    c1, c2 = sns.color_palette(n_colors=2)\n",
    "\n",
    "    ranks = U.rank_of_src_in_df(df, src_id).mean(axis=1)\n",
    "    \n",
    "    fig, ax1 = plt.subplots()\n",
    "    \n",
    "    ax1.fill_between(ranks.index, ranks.values, step='post',\n",
    "                     color=c1, label=r'$\\bar{r}(t)$', alpha=0.5)\n",
    "    \n",
    "    ax1.set_ylabel('Rank')\n",
    "    ax1.set_xlabel('Time')\n",
    "    ax1.tick_params('y', colors=c1)\n",
    "    ax1.set_ylim(0)\n",
    "    \n",
    "    tweet_times = df[(df.src_id == src_id)].t.unique()\n",
    "    num_tweets = tweet_times.shape[0]\n",
    "    \n",
    "    ax2 = ax1.twinx()\n",
    "    # plt.vlines(tweet_times[one_month_df] * 60 / 10000, ymin=0, ymax=1200, color=c2, linewidth=0.5)\n",
    "    ax2.step(tweet_times, np.arange(num_tweets),\n",
    "             label='$N(t)$', color=c2, linewidth=1.0)\n",
    "    \n",
    "    ax2.set_ylabel('Tweets')\n",
    "    ax2.tick_params('y', colors=c2)\n",
    "    ax2.set_ylim(0)\n",
    "    \n",
    "    plt.tight_layout()\n",
    "    # plt.legend(loc=\"upper left\")\n",
    "    # plt.legend(bbox_to_anchor=(0.5, 1.1), bbox_transform=plt.gca().transAxes, ncol=2)\n",
    "    "
   ]
  },
  {
   "cell_type": "code",
   "execution_count": 72,
   "metadata": {},
   "outputs": [
    {
     "data": {
      "image/png": "[encoded data removed]",
      "text/plain": [
       "<matplotlib.figure.Figure at 0x7fb8d3b7bd68>"
      ]
     },
     "metadata": {},
     "output_type": "display_data"
    }
   ],
   "source": [
    "plot_feed_evolution(opt_df, sim_opts_1_follower.src_id)"
   ]
  },
  {
   "cell_type": "code",
   "execution_count": 73,
   "metadata": {},
   "outputs": [
    {
     "data": {
      "image/png": "[encoded data removed]",
      "text/plain": [
       "<matplotlib.figure.Figure at 0x7fb8d3f8e668>"
      ]
     },
     "metadata": {},
     "output_type": "display_data"
    }
   ],
   "source": [
    "plot_feed_evolution(poisson_df, sim_opts_1_follower.src_id)"
   ]
  },
  {
   "cell_type": "code",
   "execution_count": null,
   "metadata": {
    "collapsed": true
   },
   "outputs": [],
   "source": []
  },
  {
   "cell_type": "code",
   "execution_count": null,
   "metadata": {
    "collapsed": true
   },
   "outputs": [],
   "source": []
  },
  {
   "cell_type": "code",
   "execution_count": null,
   "metadata": {
    "collapsed": true
   },
   "outputs": [],
   "source": []
  },
  {
   "cell_type": "code",
   "execution_count": null,
   "metadata": {
    "collapsed": true
   },
   "outputs": [],
   "source": []
  },
  {
   "cell_type": "code",
   "execution_count": null,
   "metadata": {
    "collapsed": true
   },
   "outputs": [],
   "source": []
  },
  {
   "cell_type": "code",
   "execution_count": null,
   "metadata": {
    "collapsed": true
   },
   "outputs": [],
   "source": []
  },
  {
   "cell_type": "code",
   "execution_count": null,
   "metadata": {
    "collapsed": true
   },
   "outputs": [],
   "source": []
  },
  {
   "cell_type": "code",
   "execution_count": null,
   "metadata": {
    "collapsed": true
   },
   "outputs": [],
   "source": []
  },
  {
   "cell_type": "code",
   "execution_count": null,
   "metadata": {
    "collapsed": true
   },
   "outputs": [],
   "source": []
  }
 ],
 "metadata": {
  "kernelspec": {
   "display_name": "Python 3",
   "language": "python",
   "name": "python3"
  },
  "language_info": {
   "codemirror_mode": {
    "name": "ipython",
    "version": 3
   },
   "file_extension": ".py",
   "mimetype": "text/x-python",
   "name": "python",
   "nbconvert_exporter": "python",
   "pygments_lexer": "ipython3",
   "version": "3.6.1"
  }
 },
 "nbformat": 4,
 "nbformat_minor": 1
}
